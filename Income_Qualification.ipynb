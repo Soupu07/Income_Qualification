{
 "cells": [
  {
   "cell_type": "code",
   "execution_count": 1,
   "id": "8fb87dff",
   "metadata": {},
   "outputs": [],
   "source": [
    "# importing required libraries\n",
    "import pandas as pd\n",
    "import numpy as np\n",
    "import matplotlib.pyplot as plt\n",
    "%matplotlib inline\n",
    "import seaborn as sns"
   ]
  },
  {
   "cell_type": "code",
   "execution_count": 2,
   "id": "6295314f",
   "metadata": {},
   "outputs": [],
   "source": [
    "# accesing the data\n",
    "df_train = pd.read_csv('train.csv')\n",
    "df_test = pd.read_csv('test.csv')"
   ]
  },
  {
   "cell_type": "code",
   "execution_count": 3,
   "id": "d038b45c",
   "metadata": {},
   "outputs": [
    {
     "data": {
      "text/html": [
       "<div>\n",
       "<style scoped>\n",
       "    .dataframe tbody tr th:only-of-type {\n",
       "        vertical-align: middle;\n",
       "    }\n",
       "\n",
       "    .dataframe tbody tr th {\n",
       "        vertical-align: top;\n",
       "    }\n",
       "\n",
       "    .dataframe thead th {\n",
       "        text-align: right;\n",
       "    }\n",
       "</style>\n",
       "<table border=\"1\" class=\"dataframe\">\n",
       "  <thead>\n",
       "    <tr style=\"text-align: right;\">\n",
       "      <th></th>\n",
       "      <th>Id</th>\n",
       "      <th>v2a1</th>\n",
       "      <th>hacdor</th>\n",
       "      <th>rooms</th>\n",
       "      <th>hacapo</th>\n",
       "      <th>v14a</th>\n",
       "      <th>refrig</th>\n",
       "      <th>v18q</th>\n",
       "      <th>v18q1</th>\n",
       "      <th>r4h1</th>\n",
       "      <th>...</th>\n",
       "      <th>SQBescolari</th>\n",
       "      <th>SQBage</th>\n",
       "      <th>SQBhogar_total</th>\n",
       "      <th>SQBedjefe</th>\n",
       "      <th>SQBhogar_nin</th>\n",
       "      <th>SQBovercrowding</th>\n",
       "      <th>SQBdependency</th>\n",
       "      <th>SQBmeaned</th>\n",
       "      <th>agesq</th>\n",
       "      <th>Target</th>\n",
       "    </tr>\n",
       "  </thead>\n",
       "  <tbody>\n",
       "    <tr>\n",
       "      <th>0</th>\n",
       "      <td>ID_279628684</td>\n",
       "      <td>190000.0</td>\n",
       "      <td>0</td>\n",
       "      <td>3</td>\n",
       "      <td>0</td>\n",
       "      <td>1</td>\n",
       "      <td>1</td>\n",
       "      <td>0</td>\n",
       "      <td>NaN</td>\n",
       "      <td>0</td>\n",
       "      <td>...</td>\n",
       "      <td>100</td>\n",
       "      <td>1849</td>\n",
       "      <td>1</td>\n",
       "      <td>100</td>\n",
       "      <td>0</td>\n",
       "      <td>1.000000</td>\n",
       "      <td>0.0</td>\n",
       "      <td>100.0</td>\n",
       "      <td>1849</td>\n",
       "      <td>4</td>\n",
       "    </tr>\n",
       "    <tr>\n",
       "      <th>1</th>\n",
       "      <td>ID_f29eb3ddd</td>\n",
       "      <td>135000.0</td>\n",
       "      <td>0</td>\n",
       "      <td>4</td>\n",
       "      <td>0</td>\n",
       "      <td>1</td>\n",
       "      <td>1</td>\n",
       "      <td>1</td>\n",
       "      <td>1.0</td>\n",
       "      <td>0</td>\n",
       "      <td>...</td>\n",
       "      <td>144</td>\n",
       "      <td>4489</td>\n",
       "      <td>1</td>\n",
       "      <td>144</td>\n",
       "      <td>0</td>\n",
       "      <td>1.000000</td>\n",
       "      <td>64.0</td>\n",
       "      <td>144.0</td>\n",
       "      <td>4489</td>\n",
       "      <td>4</td>\n",
       "    </tr>\n",
       "    <tr>\n",
       "      <th>2</th>\n",
       "      <td>ID_68de51c94</td>\n",
       "      <td>NaN</td>\n",
       "      <td>0</td>\n",
       "      <td>8</td>\n",
       "      <td>0</td>\n",
       "      <td>1</td>\n",
       "      <td>1</td>\n",
       "      <td>0</td>\n",
       "      <td>NaN</td>\n",
       "      <td>0</td>\n",
       "      <td>...</td>\n",
       "      <td>121</td>\n",
       "      <td>8464</td>\n",
       "      <td>1</td>\n",
       "      <td>0</td>\n",
       "      <td>0</td>\n",
       "      <td>0.250000</td>\n",
       "      <td>64.0</td>\n",
       "      <td>121.0</td>\n",
       "      <td>8464</td>\n",
       "      <td>4</td>\n",
       "    </tr>\n",
       "    <tr>\n",
       "      <th>3</th>\n",
       "      <td>ID_d671db89c</td>\n",
       "      <td>180000.0</td>\n",
       "      <td>0</td>\n",
       "      <td>5</td>\n",
       "      <td>0</td>\n",
       "      <td>1</td>\n",
       "      <td>1</td>\n",
       "      <td>1</td>\n",
       "      <td>1.0</td>\n",
       "      <td>0</td>\n",
       "      <td>...</td>\n",
       "      <td>81</td>\n",
       "      <td>289</td>\n",
       "      <td>16</td>\n",
       "      <td>121</td>\n",
       "      <td>4</td>\n",
       "      <td>1.777778</td>\n",
       "      <td>1.0</td>\n",
       "      <td>121.0</td>\n",
       "      <td>289</td>\n",
       "      <td>4</td>\n",
       "    </tr>\n",
       "    <tr>\n",
       "      <th>4</th>\n",
       "      <td>ID_d56d6f5f5</td>\n",
       "      <td>180000.0</td>\n",
       "      <td>0</td>\n",
       "      <td>5</td>\n",
       "      <td>0</td>\n",
       "      <td>1</td>\n",
       "      <td>1</td>\n",
       "      <td>1</td>\n",
       "      <td>1.0</td>\n",
       "      <td>0</td>\n",
       "      <td>...</td>\n",
       "      <td>121</td>\n",
       "      <td>1369</td>\n",
       "      <td>16</td>\n",
       "      <td>121</td>\n",
       "      <td>4</td>\n",
       "      <td>1.777778</td>\n",
       "      <td>1.0</td>\n",
       "      <td>121.0</td>\n",
       "      <td>1369</td>\n",
       "      <td>4</td>\n",
       "    </tr>\n",
       "  </tbody>\n",
       "</table>\n",
       "<p>5 rows × 143 columns</p>\n",
       "</div>"
      ],
      "text/plain": [
       "             Id      v2a1  hacdor  rooms  hacapo  v14a  refrig  v18q  v18q1  \\\n",
       "0  ID_279628684  190000.0       0      3       0     1       1     0    NaN   \n",
       "1  ID_f29eb3ddd  135000.0       0      4       0     1       1     1    1.0   \n",
       "2  ID_68de51c94       NaN       0      8       0     1       1     0    NaN   \n",
       "3  ID_d671db89c  180000.0       0      5       0     1       1     1    1.0   \n",
       "4  ID_d56d6f5f5  180000.0       0      5       0     1       1     1    1.0   \n",
       "\n",
       "   r4h1  ...  SQBescolari  SQBage  SQBhogar_total  SQBedjefe  SQBhogar_nin  \\\n",
       "0     0  ...          100    1849               1        100             0   \n",
       "1     0  ...          144    4489               1        144             0   \n",
       "2     0  ...          121    8464               1          0             0   \n",
       "3     0  ...           81     289              16        121             4   \n",
       "4     0  ...          121    1369              16        121             4   \n",
       "\n",
       "   SQBovercrowding  SQBdependency  SQBmeaned  agesq  Target  \n",
       "0         1.000000            0.0      100.0   1849       4  \n",
       "1         1.000000           64.0      144.0   4489       4  \n",
       "2         0.250000           64.0      121.0   8464       4  \n",
       "3         1.777778            1.0      121.0    289       4  \n",
       "4         1.777778            1.0      121.0   1369       4  \n",
       "\n",
       "[5 rows x 143 columns]"
      ]
     },
     "execution_count": 3,
     "metadata": {},
     "output_type": "execute_result"
    }
   ],
   "source": [
    "df_train.head()"
   ]
  },
  {
   "cell_type": "code",
   "execution_count": 4,
   "id": "da34ffa9",
   "metadata": {},
   "outputs": [
    {
     "data": {
      "text/plain": [
       "array([4, 2, 3, 1], dtype=int64)"
      ]
     },
     "execution_count": 4,
     "metadata": {},
     "output_type": "execute_result"
    }
   ],
   "source": [
    "# identifying the output variable\n",
    "df_train['Target'].unique()"
   ]
  },
  {
   "cell_type": "code",
   "execution_count": 5,
   "id": "437456fb",
   "metadata": {},
   "outputs": [
    {
     "data": {
      "text/html": [
       "<div>\n",
       "<style scoped>\n",
       "    .dataframe tbody tr th:only-of-type {\n",
       "        vertical-align: middle;\n",
       "    }\n",
       "\n",
       "    .dataframe tbody tr th {\n",
       "        vertical-align: top;\n",
       "    }\n",
       "\n",
       "    .dataframe thead th {\n",
       "        text-align: right;\n",
       "    }\n",
       "</style>\n",
       "<table border=\"1\" class=\"dataframe\">\n",
       "  <thead>\n",
       "    <tr style=\"text-align: right;\">\n",
       "      <th></th>\n",
       "      <th>Id</th>\n",
       "      <th>v2a1</th>\n",
       "      <th>hacdor</th>\n",
       "      <th>rooms</th>\n",
       "      <th>hacapo</th>\n",
       "      <th>v14a</th>\n",
       "      <th>refrig</th>\n",
       "      <th>v18q</th>\n",
       "      <th>v18q1</th>\n",
       "      <th>r4h1</th>\n",
       "      <th>...</th>\n",
       "      <th>age</th>\n",
       "      <th>SQBescolari</th>\n",
       "      <th>SQBage</th>\n",
       "      <th>SQBhogar_total</th>\n",
       "      <th>SQBedjefe</th>\n",
       "      <th>SQBhogar_nin</th>\n",
       "      <th>SQBovercrowding</th>\n",
       "      <th>SQBdependency</th>\n",
       "      <th>SQBmeaned</th>\n",
       "      <th>agesq</th>\n",
       "    </tr>\n",
       "  </thead>\n",
       "  <tbody>\n",
       "    <tr>\n",
       "      <th>0</th>\n",
       "      <td>ID_2f6873615</td>\n",
       "      <td>NaN</td>\n",
       "      <td>0</td>\n",
       "      <td>5</td>\n",
       "      <td>0</td>\n",
       "      <td>1</td>\n",
       "      <td>1</td>\n",
       "      <td>0</td>\n",
       "      <td>NaN</td>\n",
       "      <td>1</td>\n",
       "      <td>...</td>\n",
       "      <td>4</td>\n",
       "      <td>0</td>\n",
       "      <td>16</td>\n",
       "      <td>9</td>\n",
       "      <td>0</td>\n",
       "      <td>1</td>\n",
       "      <td>2.25</td>\n",
       "      <td>0.25</td>\n",
       "      <td>272.25</td>\n",
       "      <td>16</td>\n",
       "    </tr>\n",
       "    <tr>\n",
       "      <th>1</th>\n",
       "      <td>ID_1c78846d2</td>\n",
       "      <td>NaN</td>\n",
       "      <td>0</td>\n",
       "      <td>5</td>\n",
       "      <td>0</td>\n",
       "      <td>1</td>\n",
       "      <td>1</td>\n",
       "      <td>0</td>\n",
       "      <td>NaN</td>\n",
       "      <td>1</td>\n",
       "      <td>...</td>\n",
       "      <td>41</td>\n",
       "      <td>256</td>\n",
       "      <td>1681</td>\n",
       "      <td>9</td>\n",
       "      <td>0</td>\n",
       "      <td>1</td>\n",
       "      <td>2.25</td>\n",
       "      <td>0.25</td>\n",
       "      <td>272.25</td>\n",
       "      <td>1681</td>\n",
       "    </tr>\n",
       "    <tr>\n",
       "      <th>2</th>\n",
       "      <td>ID_e5442cf6a</td>\n",
       "      <td>NaN</td>\n",
       "      <td>0</td>\n",
       "      <td>5</td>\n",
       "      <td>0</td>\n",
       "      <td>1</td>\n",
       "      <td>1</td>\n",
       "      <td>0</td>\n",
       "      <td>NaN</td>\n",
       "      <td>1</td>\n",
       "      <td>...</td>\n",
       "      <td>41</td>\n",
       "      <td>289</td>\n",
       "      <td>1681</td>\n",
       "      <td>9</td>\n",
       "      <td>0</td>\n",
       "      <td>1</td>\n",
       "      <td>2.25</td>\n",
       "      <td>0.25</td>\n",
       "      <td>272.25</td>\n",
       "      <td>1681</td>\n",
       "    </tr>\n",
       "    <tr>\n",
       "      <th>3</th>\n",
       "      <td>ID_a8db26a79</td>\n",
       "      <td>NaN</td>\n",
       "      <td>0</td>\n",
       "      <td>14</td>\n",
       "      <td>0</td>\n",
       "      <td>1</td>\n",
       "      <td>1</td>\n",
       "      <td>1</td>\n",
       "      <td>1.0</td>\n",
       "      <td>0</td>\n",
       "      <td>...</td>\n",
       "      <td>59</td>\n",
       "      <td>256</td>\n",
       "      <td>3481</td>\n",
       "      <td>1</td>\n",
       "      <td>256</td>\n",
       "      <td>0</td>\n",
       "      <td>1.00</td>\n",
       "      <td>0.00</td>\n",
       "      <td>256.00</td>\n",
       "      <td>3481</td>\n",
       "    </tr>\n",
       "    <tr>\n",
       "      <th>4</th>\n",
       "      <td>ID_a62966799</td>\n",
       "      <td>175000.0</td>\n",
       "      <td>0</td>\n",
       "      <td>4</td>\n",
       "      <td>0</td>\n",
       "      <td>1</td>\n",
       "      <td>1</td>\n",
       "      <td>1</td>\n",
       "      <td>1.0</td>\n",
       "      <td>0</td>\n",
       "      <td>...</td>\n",
       "      <td>18</td>\n",
       "      <td>121</td>\n",
       "      <td>324</td>\n",
       "      <td>1</td>\n",
       "      <td>0</td>\n",
       "      <td>1</td>\n",
       "      <td>0.25</td>\n",
       "      <td>64.00</td>\n",
       "      <td>NaN</td>\n",
       "      <td>324</td>\n",
       "    </tr>\n",
       "  </tbody>\n",
       "</table>\n",
       "<p>5 rows × 142 columns</p>\n",
       "</div>"
      ],
      "text/plain": [
       "             Id      v2a1  hacdor  rooms  hacapo  v14a  refrig  v18q  v18q1  \\\n",
       "0  ID_2f6873615       NaN       0      5       0     1       1     0    NaN   \n",
       "1  ID_1c78846d2       NaN       0      5       0     1       1     0    NaN   \n",
       "2  ID_e5442cf6a       NaN       0      5       0     1       1     0    NaN   \n",
       "3  ID_a8db26a79       NaN       0     14       0     1       1     1    1.0   \n",
       "4  ID_a62966799  175000.0       0      4       0     1       1     1    1.0   \n",
       "\n",
       "   r4h1  ...  age  SQBescolari  SQBage  SQBhogar_total  SQBedjefe  \\\n",
       "0     1  ...    4            0      16               9          0   \n",
       "1     1  ...   41          256    1681               9          0   \n",
       "2     1  ...   41          289    1681               9          0   \n",
       "3     0  ...   59          256    3481               1        256   \n",
       "4     0  ...   18          121     324               1          0   \n",
       "\n",
       "   SQBhogar_nin  SQBovercrowding  SQBdependency  SQBmeaned  agesq  \n",
       "0             1             2.25           0.25     272.25     16  \n",
       "1             1             2.25           0.25     272.25   1681  \n",
       "2             1             2.25           0.25     272.25   1681  \n",
       "3             0             1.00           0.00     256.00   3481  \n",
       "4             1             0.25          64.00        NaN    324  \n",
       "\n",
       "[5 rows x 142 columns]"
      ]
     },
     "execution_count": 5,
     "metadata": {},
     "output_type": "execute_result"
    }
   ],
   "source": [
    "df_test.head()"
   ]
  },
  {
   "cell_type": "code",
   "execution_count": 6,
   "id": "582a113e",
   "metadata": {},
   "outputs": [
    {
     "data": {
      "text/plain": [
       "int64      130\n",
       "float64      8\n",
       "object       5\n",
       "Name: count, dtype: int64"
      ]
     },
     "execution_count": 6,
     "metadata": {},
     "output_type": "execute_result"
    }
   ],
   "source": [
    "# understanding the type of data\n",
    "df_train.dtypes.value_counts()"
   ]
  },
  {
   "cell_type": "code",
   "execution_count": 7,
   "id": "4788786d",
   "metadata": {},
   "outputs": [
    {
     "name": "stdout",
     "output_type": "stream",
     "text": [
      "<class 'pandas.core.frame.DataFrame'>\n",
      "RangeIndex: 9557 entries, 0 to 9556\n",
      "Columns: 143 entries, Id to Target\n",
      "dtypes: float64(8), int64(130), object(5)\n",
      "memory usage: 10.4+ MB\n"
     ]
    }
   ],
   "source": [
    "df_train.info()"
   ]
  },
  {
   "cell_type": "markdown",
   "id": "1b04aaa7",
   "metadata": {},
   "source": [
    "So We have mixed data types. Specified as below:\n",
    "\n",
    "float64 : 8 variables\n",
    "\n",
    "int64 : 130 vriables\n",
    "\n",
    "object :5 variables"
   ]
  },
  {
   "cell_type": "code",
   "execution_count": 8,
   "id": "e84463c4",
   "metadata": {},
   "outputs": [
    {
     "data": {
      "text/plain": [
       "[]"
      ]
     },
     "execution_count": 8,
     "metadata": {},
     "output_type": "execute_result"
    },
    {
     "data": {
      "image/png": "[encoded data removed]",
      "text/plain": [
       "<Figure size 800x600 with 1 Axes>"
      ]
     },
     "metadata": {},
     "output_type": "display_data"
    }
   ],
   "source": [
    "# Lets check is there any Biases in Dataset\n",
    "plt.figure(figsize =( 8, 6))\n",
    "df_train['Target'].value_counts().sort_index().plot.bar(linewidth = 2 , color = 'red')\n",
    "plt.plot()"
   ]
  },
  {
   "cell_type": "markdown",
   "id": "6d6c4cf7",
   "metadata": {},
   "source": [
    "As per data dictionary\n",
    "\n",
    "1 = extreme poverty\n",
    "\n",
    "2 = moderate poverty\n",
    "\n",
    "3 = vulnerable households\n",
    "\n",
    "4 = non vulnerable households\n",
    "\n",
    "extreme poverty is the smallest count in the train dataset and non vulnerable households is largest Hence the Dataset is biased"
   ]
  },
  {
   "cell_type": "code",
   "execution_count": 9,
   "id": "85f3f948",
   "metadata": {},
   "outputs": [
    {
     "data": {
      "text/html": [
       "<div>\n",
       "<style scoped>\n",
       "    .dataframe tbody tr th:only-of-type {\n",
       "        vertical-align: middle;\n",
       "    }\n",
       "\n",
       "    .dataframe tbody tr th {\n",
       "        vertical-align: top;\n",
       "    }\n",
       "\n",
       "    .dataframe thead th {\n",
       "        text-align: right;\n",
       "    }\n",
       "</style>\n",
       "<table border=\"1\" class=\"dataframe\">\n",
       "  <thead>\n",
       "    <tr style=\"text-align: right;\">\n",
       "      <th></th>\n",
       "      <th>Id</th>\n",
       "      <th>idhogar</th>\n",
       "      <th>dependency</th>\n",
       "      <th>edjefe</th>\n",
       "      <th>edjefa</th>\n",
       "    </tr>\n",
       "  </thead>\n",
       "  <tbody>\n",
       "    <tr>\n",
       "      <th>0</th>\n",
       "      <td>ID_279628684</td>\n",
       "      <td>21eb7fcc1</td>\n",
       "      <td>no</td>\n",
       "      <td>10</td>\n",
       "      <td>no</td>\n",
       "    </tr>\n",
       "    <tr>\n",
       "      <th>1</th>\n",
       "      <td>ID_f29eb3ddd</td>\n",
       "      <td>0e5d7a658</td>\n",
       "      <td>8</td>\n",
       "      <td>12</td>\n",
       "      <td>no</td>\n",
       "    </tr>\n",
       "    <tr>\n",
       "      <th>2</th>\n",
       "      <td>ID_68de51c94</td>\n",
       "      <td>2c7317ea8</td>\n",
       "      <td>8</td>\n",
       "      <td>no</td>\n",
       "      <td>11</td>\n",
       "    </tr>\n",
       "    <tr>\n",
       "      <th>3</th>\n",
       "      <td>ID_d671db89c</td>\n",
       "      <td>2b58d945f</td>\n",
       "      <td>yes</td>\n",
       "      <td>11</td>\n",
       "      <td>no</td>\n",
       "    </tr>\n",
       "    <tr>\n",
       "      <th>4</th>\n",
       "      <td>ID_d56d6f5f5</td>\n",
       "      <td>2b58d945f</td>\n",
       "      <td>yes</td>\n",
       "      <td>11</td>\n",
       "      <td>no</td>\n",
       "    </tr>\n",
       "  </tbody>\n",
       "</table>\n",
       "</div>"
      ],
      "text/plain": [
       "             Id    idhogar dependency edjefe edjefa\n",
       "0  ID_279628684  21eb7fcc1         no     10     no\n",
       "1  ID_f29eb3ddd  0e5d7a658          8     12     no\n",
       "2  ID_68de51c94  2c7317ea8          8     no     11\n",
       "3  ID_d671db89c  2b58d945f        yes     11     no\n",
       "4  ID_d56d6f5f5  2b58d945f        yes     11     no"
      ]
     },
     "execution_count": 9,
     "metadata": {},
     "output_type": "execute_result"
    }
   ],
   "source": [
    "# Lets Explore each different types of datasets\n",
    "df_train.select_dtypes('object').head()"
   ]
  },
  {
   "cell_type": "markdown",
   "id": "6e84af9d",
   "metadata": {},
   "source": [
    "# Let's Check if there is a house without a family head. "
   ]
  },
  {
   "cell_type": "code",
   "execution_count": 10,
   "id": "41f105e7",
   "metadata": {},
   "outputs": [
    {
     "name": "stdout",
     "output_type": "stream",
     "text": [
      "There are 15 households without a head.\n"
     ]
    }
   ],
   "source": [
    "households_head = df_train.groupby('idhogar')['parentesco1'].sum()\n",
    "\n",
    "households_no_head = df_train.loc[df_train['idhogar'].isin (households_head[households_head == 0].index), :]\n",
    "\n",
    "print('There are {} households without a head.'.format(households_no_head['idhogar'].nunique()))"
   ]
  },
  {
   "cell_type": "markdown",
   "id": "914e38af",
   "metadata": {},
   "source": [
    "# Data Cleaning"
   ]
  },
  {
   "cell_type": "code",
   "execution_count": 11,
   "id": "873afd07",
   "metadata": {},
   "outputs": [],
   "source": [
    "# Lets drop unwanted features.\n",
    "df_train.drop(['Id' , 'idhogar'] , axis = 1,inplace = True)"
   ]
  },
  {
   "cell_type": "code",
   "execution_count": 12,
   "id": "e5e27cab",
   "metadata": {},
   "outputs": [
    {
     "data": {
      "text/plain": [
       "dependency\n",
       "yes          2192\n",
       "no           1747\n",
       ".5           1497\n",
       "2             730\n",
       "1.5           713\n",
       ".33333334     598\n",
       ".66666669     487\n",
       "8             378\n",
       ".25           260\n",
       "3             236\n",
       "4             100\n",
       ".75            98\n",
       ".2             90\n",
       ".40000001      84\n",
       "1.3333334      84\n",
       "2.5            77\n",
       "5              24\n",
       "1.25           18\n",
       "3.5            18\n",
       ".80000001      18\n",
       "2.25           13\n",
       ".71428573      12\n",
       "1.75           11\n",
       "1.2            11\n",
       ".83333331      11\n",
       ".22222222      11\n",
       ".2857143        9\n",
       "1.6666666       8\n",
       ".60000002       8\n",
       "6               7\n",
       ".16666667       7\n",
       "Name: count, dtype: int64"
      ]
     },
     "execution_count": 12,
     "metadata": {},
     "output_type": "execute_result"
    }
   ],
   "source": [
    "df_train['dependency'].value_counts()"
   ]
  },
  {
   "cell_type": "code",
   "execution_count": 13,
   "id": "bdce7448",
   "metadata": {},
   "outputs": [],
   "source": [
    "# here are some object variables are present Lets convert it to numerical data .\n",
    "def map(i):\n",
    "    if i == 'yes':\n",
    "      return(float(1))\n",
    "    elif i == 'no':\n",
    "      return(float(0))\n",
    "    else:\n",
    "      return(float(i))\n"
   ]
  },
  {
   "cell_type": "code",
   "execution_count": 14,
   "id": "c8f5ab56",
   "metadata": {},
   "outputs": [],
   "source": [
    "# Lets apply on data\n",
    "df_train['dependency'] = df_train['dependency'].apply(map)"
   ]
  },
  {
   "cell_type": "code",
   "execution_count": 15,
   "id": "9455f2aa",
   "metadata": {},
   "outputs": [],
   "source": [
    "# so lets apply same on other two remaining columns\n",
    "df_train['edjefe']= df_train['edjefe'].apply(map)\n",
    "df_train['edjefa']= df_train['edjefa'].apply(map)"
   ]
  },
  {
   "cell_type": "code",
   "execution_count": 16,
   "id": "16815e7f",
   "metadata": {},
   "outputs": [
    {
     "name": "stdout",
     "output_type": "stream",
     "text": [
      "<class 'pandas.core.frame.DataFrame'>\n",
      "RangeIndex: 9557 entries, 0 to 9556\n",
      "Columns: 141 entries, v2a1 to Target\n",
      "dtypes: float64(11), int64(130)\n",
      "memory usage: 10.3 MB\n"
     ]
    }
   ],
   "source": [
    "df_train.info()"
   ]
  },
  {
   "cell_type": "code",
   "execution_count": 17,
   "id": "a1fdcc70",
   "metadata": {},
   "outputs": [
    {
     "name": "stdout",
     "output_type": "stream",
     "text": [
      "v2a1               6860\n",
      "v18q1              7342\n",
      "rez_esc            7928\n",
      "dependency            0\n",
      "edjefe                0\n",
      "edjefa                0\n",
      "meaneduc              5\n",
      "overcrowding          0\n",
      "SQBovercrowding       0\n",
      "SQBdependency         0\n",
      "SQBmeaned             5\n",
      "dtype: int64\n",
      "shape of data = (9557, 141)\n"
     ]
    }
   ],
   "source": [
    "# Lets check whether there are any null values present in data.\n",
    "print(df_train.select_dtypes(float).isna().sum())\n",
    "print('shape of data =', df_train.shape)"
   ]
  },
  {
   "cell_type": "code",
   "execution_count": 18,
   "id": "0535739a",
   "metadata": {},
   "outputs": [
    {
     "name": "stdout",
     "output_type": "stream",
     "text": [
      "Series([], Name: count, dtype: int64)\n",
      "shape of data= (9557, 141)\n"
     ]
    }
   ],
   "source": [
    "print(df_train.select_dtypes(object).isna().sum().value_counts())\n",
    "print('shape of data=', df_train.shape)"
   ]
  },
  {
   "cell_type": "code",
   "execution_count": 19,
   "id": "b8d383d6",
   "metadata": {},
   "outputs": [
    {
     "name": "stdout",
     "output_type": "stream",
     "text": [
      "0    130\n",
      "Name: count, dtype: int64\n",
      "shape of data = (9557, 141)\n"
     ]
    }
   ],
   "source": [
    " # No null values in int type of data.\n",
    "    \n",
    "print(df_train.select_dtypes(int).isna().sum().value_counts())\n",
    "print('shape of data =',df_train.shape)"
   ]
  },
  {
   "cell_type": "code",
   "execution_count": 20,
   "id": "dd179a3f",
   "metadata": {},
   "outputs": [
    {
     "data": {
      "text/plain": [
       "0"
      ]
     },
     "execution_count": 20,
     "metadata": {},
     "output_type": "execute_result"
    }
   ],
   "source": [
    "# no null value in Target variable.\n",
    "\n",
    "df_train['Target'].isna().sum()"
   ]
  },
  {
   "cell_type": "markdown",
   "id": "b859775a",
   "metadata": {},
   "source": [
    "### Let's fix the column with null values According to the documentation for these columns:"
   ]
  },
  {
   "cell_type": "markdown",
   "id": "62732f2c",
   "metadata": {},
   "source": [
    "v2a1 (total nulls: 6860) : Monthly rent payment\n",
    "\n",
    "v18q1 (total nulls: 7342) : number of tablets household owns\n",
    "\n",
    "rez_esc (total nulls: 7928) : Years behind in school\n",
    "\n",
    "meaneduc (total nulls: 5) : average years of education for adults (18+)\n",
    "\n",
    "SQBmeaned (total nulls: 5) : square of the mean years of education of adults (>=18) in the household 142\n",
    "\n",
    "Lets look at v2a1 (total nulls: 6860) : Monthly rent payment\n",
    "\n",
    "why the null values, Lets look at few rows with nulls in v2a1:\n",
    "\n",
    "Columns related to Monthly rent payment\n",
    "\n",
    "tipovivi1, =1 own and fully paid house\n",
    "\n",
    "tipovivi2, \"=1 own, paying in installments\"\n",
    "\n",
    "tipovivi3, =1 rented\n",
    "\n",
    "tipovivi4, =1 precarious\n",
    "\n",
    "tipovivi5, \"=1 other(assigned, borrowed)\""
   ]
  },
  {
   "cell_type": "code",
   "execution_count": 21,
   "id": "3c897e5c",
   "metadata": {},
   "outputs": [
    {
     "data": {
      "text/html": [
       "<div>\n",
       "<style scoped>\n",
       "    .dataframe tbody tr th:only-of-type {\n",
       "        vertical-align: middle;\n",
       "    }\n",
       "\n",
       "    .dataframe tbody tr th {\n",
       "        vertical-align: top;\n",
       "    }\n",
       "\n",
       "    .dataframe thead th {\n",
       "        text-align: right;\n",
       "    }\n",
       "</style>\n",
       "<table border=\"1\" class=\"dataframe\">\n",
       "  <thead>\n",
       "    <tr style=\"text-align: right;\">\n",
       "      <th></th>\n",
       "      <th>tipovivi1</th>\n",
       "      <th>tipovivi2</th>\n",
       "      <th>tipovivi3</th>\n",
       "      <th>tipovivi4</th>\n",
       "      <th>tipovivi5</th>\n",
       "    </tr>\n",
       "  </thead>\n",
       "  <tbody>\n",
       "    <tr>\n",
       "      <th>2</th>\n",
       "      <td>1</td>\n",
       "      <td>0</td>\n",
       "      <td>0</td>\n",
       "      <td>0</td>\n",
       "      <td>0</td>\n",
       "    </tr>\n",
       "    <tr>\n",
       "      <th>13</th>\n",
       "      <td>1</td>\n",
       "      <td>0</td>\n",
       "      <td>0</td>\n",
       "      <td>0</td>\n",
       "      <td>0</td>\n",
       "    </tr>\n",
       "    <tr>\n",
       "      <th>14</th>\n",
       "      <td>1</td>\n",
       "      <td>0</td>\n",
       "      <td>0</td>\n",
       "      <td>0</td>\n",
       "      <td>0</td>\n",
       "    </tr>\n",
       "    <tr>\n",
       "      <th>26</th>\n",
       "      <td>1</td>\n",
       "      <td>0</td>\n",
       "      <td>0</td>\n",
       "      <td>0</td>\n",
       "      <td>0</td>\n",
       "    </tr>\n",
       "    <tr>\n",
       "      <th>32</th>\n",
       "      <td>1</td>\n",
       "      <td>0</td>\n",
       "      <td>0</td>\n",
       "      <td>0</td>\n",
       "      <td>0</td>\n",
       "    </tr>\n",
       "  </tbody>\n",
       "</table>\n",
       "</div>"
      ],
      "text/plain": [
       "    tipovivi1  tipovivi2  tipovivi3  tipovivi4  tipovivi5\n",
       "2           1          0          0          0          0\n",
       "13          1          0          0          0          0\n",
       "14          1          0          0          0          0\n",
       "26          1          0          0          0          0\n",
       "32          1          0          0          0          0"
      ]
     },
     "execution_count": 21,
     "metadata": {},
     "output_type": "execute_result"
    }
   ],
   "source": [
    "data = df_train[df_train['v2a1'].isnull()].head()\n",
    "\n",
    "columns=['tipovivi1','tipovivi2','tipovivi3','tipovivi4','tipovivi5']\n",
    "data[columns]"
   ]
  },
  {
   "cell_type": "code",
   "execution_count": 22,
   "id": "80468da1",
   "metadata": {},
   "outputs": [
    {
     "data": {
      "image/png": "[encoded data removed]",
      "text/plain": [
       "<Figure size 1000x800 with 1 Axes>"
      ]
     },
     "metadata": {},
     "output_type": "display_data"
    }
   ],
   "source": [
    "# Variables indicating home ownership\n",
    "own_variables = [x for x in df_train if x.startswith('tipo')]\n",
    "\n",
    "\n",
    "# Plot of the home ownership variables for home missing rent payments\n",
    "df_train.loc[df_train['v2a1'].isnull(), own_variables].sum().plot.bar(figsize = (10, 8), color = 'cyan', edgecolor = 'k', linewidth = 2);\n",
    "plt.xticks([0, 1, 2, 3, 4],\n",
    "           ['Owns and Paid Off', 'Owns and Paying', 'Rented', 'Precarious', 'Other'],\n",
    "          rotation = 20)\n",
    "plt.title('Home Ownership Status for Households Missing Rent Payments', size = 18);"
   ]
  },
  {
   "cell_type": "code",
   "execution_count": 23,
   "id": "9e451640",
   "metadata": {},
   "outputs": [
    {
     "data": {
      "text/plain": [
       "v2a1    0\n",
       "dtype: int64"
      ]
     },
     "execution_count": 23,
     "metadata": {},
     "output_type": "execute_result"
    }
   ],
   "source": [
    "#Looking at the above data it makes sense that when the house is fully paid, there will be no monthly rent payment.\n",
    "#Lets add 0 for all the null values.\n",
    "for df in [df_train, df_test]:\n",
    "    df['v2a1'].fillna(value=0, inplace=True)\n",
    "\n",
    "df_train[['v2a1']].isnull().sum()"
   ]
  },
  {
   "cell_type": "markdown",
   "id": "cae21538",
   "metadata": {},
   "source": [
    "Lets look at v18q1 (total nulls: 7342) : number of tablets household owns why the null values, Lets look at few rows with nulls in v18q1 Columns related to number of tablets household owns v18q, owns a tablet\n",
    "\n",
    "Since this is a household variable, it only makes sense to look at it on a household level, so we'll only select the rows for the head of household."
   ]
  },
  {
   "cell_type": "code",
   "execution_count": 24,
   "id": "e06aa3d3",
   "metadata": {},
   "outputs": [
    {
     "data": {
      "text/plain": [
       "v18q\n",
       "0    2318\n",
       "1       0\n",
       "Name: v18q1, dtype: int64"
      ]
     },
     "execution_count": 24,
     "metadata": {},
     "output_type": "execute_result"
    }
   ],
   "source": [
    "# Heads of household\n",
    "heads = df_train.loc[df_train['parentesco1'] == 1].copy()\n",
    "heads.groupby('v18q')['v18q1'].apply(lambda x: x.isnull().sum())"
   ]
  },
  {
   "cell_type": "code",
   "execution_count": 25,
   "id": "38646122",
   "metadata": {
    "scrolled": true
   },
   "outputs": [
    {
     "data": {
      "image/png": "[encoded data removed]",
      "text/plain": [
       "<Figure size 800x600 with 1 Axes>"
      ]
     },
     "metadata": {},
     "output_type": "display_data"
    }
   ],
   "source": [
    "plt.figure(figsize = (8, 6))\n",
    "col='v18q1'\n",
    "df_train[col].value_counts().sort_index().plot.bar(color = 'green',\n",
    "                                             edgecolor = 'k',\n",
    "                                             linewidth = 2)\n",
    "plt.xlabel(f'{col}'); plt.title(f'{col} Value Counts'); plt.ylabel('Count')\n",
    "plt.show();"
   ]
  },
  {
   "cell_type": "code",
   "execution_count": 26,
   "id": "d5c8135c",
   "metadata": {},
   "outputs": [
    {
     "data": {
      "text/plain": [
       "v18q1    0\n",
       "dtype: int64"
      ]
     },
     "execution_count": 26,
     "metadata": {},
     "output_type": "execute_result"
    }
   ],
   "source": [
    "for df in [df_train, df_test]:\n",
    "    df['v18q1'].fillna(value=0, inplace=True)\n",
    "\n",
    "df_train[['v18q1']].isnull().sum()"
   ]
  },
  {
   "cell_type": "code",
   "execution_count": 27,
   "id": "27966542",
   "metadata": {},
   "outputs": [
    {
     "data": {
      "text/plain": [
       "rez_esc    0\n",
       "dtype: int64"
      ]
     },
     "execution_count": 27,
     "metadata": {},
     "output_type": "execute_result"
    }
   ],
   "source": [
    "# lets do same with 'rez_esc' variable\n",
    "for df in [df_train, df_test]:\n",
    "    df['rez_esc'].fillna(value=0, inplace=True)\n",
    "df_train[['rez_esc']].isnull().sum()"
   ]
  },
  {
   "cell_type": "code",
   "execution_count": 28,
   "id": "e24f1e7f",
   "metadata": {},
   "outputs": [
    {
     "data": {
      "text/plain": [
       "meaneduc    0\n",
       "dtype: int64"
      ]
     },
     "execution_count": 28,
     "metadata": {},
     "output_type": "execute_result"
    }
   ],
   "source": [
    "for df in [df_train, df_test]:\n",
    "    df['meaneduc'].fillna(value=0, inplace=True)\n",
    "df_train[['meaneduc']].isnull().sum()"
   ]
  },
  {
   "cell_type": "code",
   "execution_count": 29,
   "id": "4d5b8124",
   "metadata": {},
   "outputs": [
    {
     "data": {
      "text/plain": [
       "SQBmeaned    0\n",
       "dtype: int64"
      ]
     },
     "execution_count": 29,
     "metadata": {},
     "output_type": "execute_result"
    }
   ],
   "source": [
    "for df in [df_train, df_test]:\n",
    "    df['SQBmeaned'].fillna(value=0, inplace=True)\n",
    "df_train[['SQBmeaned']].isnull().sum()"
   ]
  },
  {
   "cell_type": "code",
   "execution_count": 30,
   "id": "5c127723",
   "metadata": {},
   "outputs": [
    {
     "name": "stdout",
     "output_type": "stream",
     "text": [
      "(9557, 132)\n",
      "(9557, 132)\n"
     ]
    }
   ],
   "source": [
    "# lets deleate unwated/ biased columns\n",
    "cols=['SQBescolari', 'SQBage', 'SQBhogar_total', 'SQBedjefe', \n",
    "        'SQBhogar_nin', 'SQBovercrowding', 'SQBdependency', 'SQBmeaned', 'agesq']       \n",
    "for df in [df_train, df_test]:\n",
    "    df.drop(columns = cols , inplace=True)\n",
    "\n",
    "    print (df_train.shape)"
   ]
  },
  {
   "cell_type": "code",
   "execution_count": 31,
   "id": "aa7430d9",
   "metadata": {},
   "outputs": [
    {
     "name": "stdout",
     "output_type": "stream",
     "text": [
      "(9557, 127)\n",
      "(9557, 127)\n"
     ]
    }
   ],
   "source": [
    "cols=['tamhog', 'hogar_total', 'r4t3','area2','male']\n",
    "for df in [df_train, df_test]:\n",
    "    df.drop(columns = cols , inplace=True)\n",
    "\n",
    "    print (df_train.shape)"
   ]
  },
  {
   "cell_type": "code",
   "execution_count": 32,
   "id": "8f1e8f63",
   "metadata": {},
   "outputs": [
    {
     "name": "stdout",
     "output_type": "stream",
     "text": [
      "Shape of train =  (9557, 127)\n",
      "Shape of test =  (23856, 128)\n"
     ]
    }
   ],
   "source": [
    "print ('Shape of train = ',df_train.shape)\n",
    "print ('Shape of test = ',df_test.shape)"
   ]
  },
  {
   "cell_type": "markdown",
   "id": "b1649744",
   "metadata": {},
   "source": [
    "Here two column is remaining to drop from test data"
   ]
  },
  {
   "cell_type": "code",
   "execution_count": 33,
   "id": "704c8a5f",
   "metadata": {},
   "outputs": [
    {
     "name": "stdout",
     "output_type": "stream",
     "text": [
      "Shape of train =  (9557, 127)\n",
      "Shape of test =  (23856, 126)\n"
     ]
    }
   ],
   "source": [
    "df_test.drop(['Id','idhogar'],axis=1,inplace=True)\n",
    "\n",
    "\n",
    "df_test['dependency']=df_test['dependency'].apply(map)\n",
    "df_test['edjefe']=df_test['edjefe'].apply(map)\n",
    "df_test['edjefa']=df_test['edjefa'].apply(map)\n",
    "     \n",
    "\n",
    "print ('Shape of train = ',df_train.shape)\n",
    "print ('Shape of test = ',df_test.shape)"
   ]
  },
  {
   "cell_type": "markdown",
   "id": "11366178",
   "metadata": {},
   "source": [
    "### Set poverty level of the members and the head of the house within a family."
   ]
  },
  {
   "cell_type": "code",
   "execution_count": 34,
   "id": "fb956cb0",
   "metadata": {},
   "outputs": [],
   "source": [
    "Poverty_level = df_train[df_train['v2a1'] !=0]"
   ]
  },
  {
   "cell_type": "code",
   "execution_count": 35,
   "id": "c166bf50",
   "metadata": {},
   "outputs": [
    {
     "data": {
      "text/plain": [
       "(2668, 127)"
      ]
     },
     "execution_count": 35,
     "metadata": {},
     "output_type": "execute_result"
    }
   ],
   "source": [
    "Poverty_level.shape"
   ]
  },
  {
   "cell_type": "code",
   "execution_count": 36,
   "id": "bc6d5aa0",
   "metadata": {},
   "outputs": [
    {
     "data": {
      "text/plain": [
       "area1\n",
       "0     80000.0\n",
       "1    140000.0\n",
       "Name: v2a1, dtype: float64"
      ]
     },
     "execution_count": 36,
     "metadata": {},
     "output_type": "execute_result"
    }
   ],
   "source": [
    "poverty_level = Poverty_level.groupby('area1') ['v2a1'].apply(np.median)\n",
    "poverty_level"
   ]
  },
  {
   "cell_type": "markdown",
   "id": "24a82570",
   "metadata": {},
   "source": [
    "For rural area level if people paying rent less than 8000 is under poverty level.\n",
    "\n",
    "For Urban area level if people paying rent less than 140000 is under poverty level."
   ]
  },
  {
   "cell_type": "code",
   "execution_count": 37,
   "id": "f9ec6d0a",
   "metadata": {},
   "outputs": [],
   "source": [
    "def poverty(x):\n",
    "  if x<8000:\n",
    "    return('Below Poverty Level')\n",
    "  elif x> 140000:\n",
    "    return('Above Poverty Level')\n",
    "  elif x<140000:\n",
    "    return ('Below Povert Level: Urban ; Above Poverty Level : Rural ')"
   ]
  },
  {
   "cell_type": "code",
   "execution_count": 38,
   "id": "6ee82532",
   "metadata": {},
   "outputs": [
    {
     "data": {
      "text/plain": [
       "(2668,)"
      ]
     },
     "execution_count": 38,
     "metadata": {},
     "output_type": "execute_result"
    }
   ],
   "source": [
    "m = Poverty_level['v2a1'].apply(poverty)\n",
    "m.shape"
   ]
  },
  {
   "cell_type": "code",
   "execution_count": 39,
   "id": "64b079b0",
   "metadata": {},
   "outputs": [
    {
     "data": {
      "text/html": [
       "<div>\n",
       "<style scoped>\n",
       "    .dataframe tbody tr th:only-of-type {\n",
       "        vertical-align: middle;\n",
       "    }\n",
       "\n",
       "    .dataframe tbody tr th {\n",
       "        vertical-align: top;\n",
       "    }\n",
       "\n",
       "    .dataframe thead th {\n",
       "        text-align: right;\n",
       "    }\n",
       "</style>\n",
       "<table border=\"1\" class=\"dataframe\">\n",
       "  <thead>\n",
       "    <tr style=\"text-align: right;\">\n",
       "      <th>area1</th>\n",
       "      <th>0</th>\n",
       "      <th>1</th>\n",
       "    </tr>\n",
       "    <tr>\n",
       "      <th>v2a1</th>\n",
       "      <th></th>\n",
       "      <th></th>\n",
       "    </tr>\n",
       "  </thead>\n",
       "  <tbody>\n",
       "    <tr>\n",
       "      <th>Above Poverty Level</th>\n",
       "      <td>139</td>\n",
       "      <td>1103</td>\n",
       "    </tr>\n",
       "    <tr>\n",
       "      <th>Below Povert Level: Urban ; Above Poverty Level : Rural</th>\n",
       "      <td>306</td>\n",
       "      <td>1081</td>\n",
       "    </tr>\n",
       "  </tbody>\n",
       "</table>\n",
       "</div>"
      ],
      "text/plain": [
       "area1                                                 0     1\n",
       "v2a1                                                         \n",
       "Above Poverty Level                                 139  1103\n",
       "Below Povert Level: Urban ; Above Poverty Level...  306  1081"
      ]
     },
     "execution_count": 39,
     "metadata": {},
     "output_type": "execute_result"
    }
   ],
   "source": [
    "pd.crosstab(m,Poverty_level['area1'])"
   ]
  },
  {
   "cell_type": "markdown",
   "id": "88d54118",
   "metadata": {},
   "source": [
    "#### There are total 1242 people above poverty level independent of area whether rural or Urban "
   ]
  },
  {
   "cell_type": "markdown",
   "id": "aa3b3cee",
   "metadata": {},
   "source": [
    "#### Remaining 1111 people level depends on their area "
   ]
  },
  {
   "cell_type": "markdown",
   "id": "e5d89965",
   "metadata": {},
   "source": [
    "##### Rural :"
   ]
  },
  {
   "cell_type": "markdown",
   "id": "14590c2d",
   "metadata": {},
   "source": [
    "Above poverty level= 445"
   ]
  },
  {
   "cell_type": "markdown",
   "id": "e29255a4",
   "metadata": {},
   "source": [
    "##### Urban : "
   ]
  },
  {
   "cell_type": "markdown",
   "id": "dcf92938",
   "metadata": {},
   "source": [
    "Above poverty level =1103\n",
    "\n",
    "Below poverty level=1081"
   ]
  },
  {
   "cell_type": "markdown",
   "id": "2085005f",
   "metadata": {},
   "source": [
    "# Model Building "
   ]
  },
  {
   "cell_type": "markdown",
   "id": "707b517a",
   "metadata": {},
   "source": [
    "## let's predict the accuracy usins Random Forest Classifier "
   ]
  },
  {
   "cell_type": "code",
   "execution_count": 40,
   "id": "a2c3262b",
   "metadata": {},
   "outputs": [
    {
     "name": "stdout",
     "output_type": "stream",
     "text": [
      "(9557, 126)\n",
      "(9557,)\n"
     ]
    }
   ],
   "source": [
    "# dividing the data to x and y features\n",
    "x = df_train.drop('Target',axis = 1) \n",
    "y = df_train.Target\n",
    "print (x.shape)\n",
    "print (y.shape)"
   ]
  },
  {
   "cell_type": "code",
   "execution_count": 41,
   "id": "cdeec6b3",
   "metadata": {},
   "outputs": [],
   "source": [
    "# importing models from sklearn\n",
    "\n",
    "from sklearn.model_selection import train_test_split\n",
    "from sklearn.ensemble import RandomForestClassifier\n",
    "from sklearn.metrics import accuracy_score, confusion_matrix  , f1_score , classification_report"
   ]
  },
  {
   "cell_type": "code",
   "execution_count": 42,
   "id": "67b367e5",
   "metadata": {},
   "outputs": [],
   "source": [
    "# lets divide the data in training and testing set\n",
    "\n",
    "x_train,x_test,y_train,y_test = train_test_split(x , y , test_size = 0.25 , random_state = 4)\n",
    "rfc = RandomForestClassifier()"
   ]
  },
  {
   "cell_type": "code",
   "execution_count": 43,
   "id": "f4bb72ea",
   "metadata": {},
   "outputs": [],
   "source": [
    "# fit the model\n",
    "model = rfc.fit(x_train, y_train)"
   ]
  },
  {
   "cell_type": "code",
   "execution_count": 44,
   "id": "14748495",
   "metadata": {},
   "outputs": [],
   "source": [
    "# prediction\n",
    "y_pred = rfc.predict(x_test)"
   ]
  },
  {
   "cell_type": "code",
   "execution_count": 45,
   "id": "7f5c7322",
   "metadata": {},
   "outputs": [
    {
     "name": "stdout",
     "output_type": "stream",
     "text": [
      "Accuracy =  0.9351464435146444\n",
      "[[ 135   10    1   22]\n",
      " [   3  343    8   57]\n",
      " [   0    9  238   43]\n",
      " [   0    1    1 1519]]\n",
      "              precision    recall  f1-score   support\n",
      "\n",
      "           1       0.98      0.80      0.88       168\n",
      "           2       0.94      0.83      0.89       411\n",
      "           3       0.96      0.82      0.88       290\n",
      "           4       0.93      1.00      0.96      1521\n",
      "\n",
      "    accuracy                           0.94      2390\n",
      "   macro avg       0.95      0.86      0.90      2390\n",
      "weighted avg       0.94      0.94      0.93      2390\n",
      "\n"
     ]
    }
   ],
   "source": [
    "# print the prediction\n",
    "\n",
    "print ('Accuracy = ', accuracy_score(y_test,y_pred))\n",
    "print ( confusion_matrix(y_test,y_pred))\n",
    "print ( classification_report(y_test,y_pred))"
   ]
  },
  {
   "cell_type": "code",
   "execution_count": 46,
   "id": "396af798",
   "metadata": {},
   "outputs": [
    {
     "data": {
      "text/plain": [
       "array([4, 4, 4, ..., 4, 4, 4], dtype=int64)"
      ]
     },
     "execution_count": 46,
     "metadata": {},
     "output_type": "execute_result"
    }
   ],
   "source": [
    "# prediction on test data\n",
    "y_pred_testdata = rfc.predict(df_test)\n",
    "y_pred_testdata"
   ]
  },
  {
   "cell_type": "code",
   "execution_count": 47,
   "id": "f5b0ae0c",
   "metadata": {},
   "outputs": [
    {
     "name": "stdout",
     "output_type": "stream",
     "text": [
      "Model Score of train data : 1.0\n",
      "Model Score of test data : 0.9351464435146444\n"
     ]
    }
   ],
   "source": [
    "print('Model Score of train data : {}'.format(model.score(x_train,y_train)))\n",
    "print('Model Score of test data : {}'.format(model.score(x_test,y_test)))"
   ]
  },
  {
   "cell_type": "markdown",
   "id": "4809b202",
   "metadata": {},
   "source": [
    "# Let's Check the accuracy using random forest with cross validation. "
   ]
  },
  {
   "cell_type": "code",
   "execution_count": 48,
   "id": "20ac5715",
   "metadata": {},
   "outputs": [],
   "source": [
    "from sklearn.model_selection import KFold,cross_val_score"
   ]
  },
  {
   "cell_type": "code",
   "execution_count": 49,
   "id": "05398a2a",
   "metadata": {},
   "outputs": [
    {
     "name": "stdout",
     "output_type": "stream",
     "text": [
      "[0.94560669 0.92154812 0.92673993 0.92360021 0.93197279]\n",
      "92.989354737711\n"
     ]
    }
   ],
   "source": [
    "kfold = KFold(n_splits = 5, random_state = 4 , shuffle = True)\n",
    "rfc = RandomForestClassifier(random_state = 4 , n_jobs = -1)\n",
    "\n",
    "print(cross_val_score (rfc , x, y ,cv = kfold , scoring ='accuracy'))\n",
    "\n",
    "results = cross_val_score (rfc , x , y ,cv = kfold ,scoring = 'accuracy')\n",
    "print (results.mean()*100)"
   ]
  },
  {
   "cell_type": "code",
   "execution_count": 50,
   "id": "8cd561ca",
   "metadata": {},
   "outputs": [
    {
     "name": "stdout",
     "output_type": "stream",
     "text": [
      "   feature  importance\n",
      "0     v2a1    0.018011\n",
      "2    rooms    0.024247\n",
      "9     r4h2    0.020789\n",
      "10    r4h3    0.019988\n",
      "12    r4m2    0.015689\n",
      "(22, 2)\n"
     ]
    }
   ],
   "source": [
    "rfc.fit(x,y)\n",
    "labels = list (x)\n",
    "feature_importances = pd.DataFrame({'feature': labels, 'importance' : rfc.feature_importances_})\n",
    "feature_importances = feature_importances[feature_importances.importance>0.015]\n",
    "print (feature_importances.head())\n",
    "print (feature_importances.shape)"
   ]
  },
  {
   "cell_type": "code",
   "execution_count": 51,
   "id": "638f079e",
   "metadata": {},
   "outputs": [
    {
     "data": {
      "text/plain": [
       "array([4, 4, 4, ..., 4, 4, 4], dtype=int64)"
      ]
     },
     "execution_count": 51,
     "metadata": {},
     "output_type": "execute_result"
    }
   ],
   "source": [
    "y_pred_testdata = rfc.predict(df_test)\n",
    "y_pred_testdata"
   ]
  },
  {
   "cell_type": "code",
   "execution_count": 52,
   "id": "5a4d3bf9",
   "metadata": {},
   "outputs": [
    {
     "data": {
      "text/plain": [
       "Text(0.5, 0, 'Importance')"
      ]
     },
     "execution_count": 52,
     "metadata": {},
     "output_type": "execute_result"
    },
    {
     "data": {
      "image/png": "[encoded data removed]",
      "text/plain": [
       "<Figure size 1100x600 with 1 Axes>"
      ]
     },
     "metadata": {},
     "output_type": "display_data"
    }
   ],
   "source": [
    "feature_importances.sort_values(by=['importance'], ascending=True, inplace=True)\n",
    "feature_importances['positive'] = feature_importances['importance'] > 0\n",
    "feature_importances.set_index('feature',inplace=True)\n",
    "feature_importances.head()\n",
    "\n",
    "feature_importances.importance.plot(kind='barh', figsize=(11, 6),color = feature_importances.positive.map({True: 'red', False: 'blue'}))\n",
    "plt.xlabel('Importance')"
   ]
  },
  {
   "cell_type": "markdown",
   "id": "703f8c28",
   "metadata": {},
   "source": [
    "# Let's Apply Model on only important features and let's see what happens."
   ]
  },
  {
   "cell_type": "code",
   "execution_count": 53,
   "id": "6847f54c",
   "metadata": {},
   "outputs": [
    {
     "data": {
      "text/html": [
       "<div>\n",
       "<style scoped>\n",
       "    .dataframe tbody tr th:only-of-type {\n",
       "        vertical-align: middle;\n",
       "    }\n",
       "\n",
       "    .dataframe tbody tr th {\n",
       "        vertical-align: top;\n",
       "    }\n",
       "\n",
       "    .dataframe thead th {\n",
       "        text-align: right;\n",
       "    }\n",
       "</style>\n",
       "<table border=\"1\" class=\"dataframe\">\n",
       "  <thead>\n",
       "    <tr style=\"text-align: right;\">\n",
       "      <th></th>\n",
       "      <th>importance</th>\n",
       "      <th>positive</th>\n",
       "    </tr>\n",
       "    <tr>\n",
       "      <th>feature</th>\n",
       "      <th></th>\n",
       "      <th></th>\n",
       "    </tr>\n",
       "  </thead>\n",
       "  <tbody>\n",
       "    <tr>\n",
       "      <th>r4m2</th>\n",
       "      <td>0.015689</td>\n",
       "      <td>True</td>\n",
       "    </tr>\n",
       "    <tr>\n",
       "      <th>cielorazo</th>\n",
       "      <td>0.017227</td>\n",
       "      <td>True</td>\n",
       "    </tr>\n",
       "    <tr>\n",
       "      <th>bedrooms</th>\n",
       "      <td>0.017884</td>\n",
       "      <td>True</td>\n",
       "    </tr>\n",
       "    <tr>\n",
       "      <th>v2a1</th>\n",
       "      <td>0.018011</td>\n",
       "      <td>True</td>\n",
       "    </tr>\n",
       "    <tr>\n",
       "      <th>hogar_adul</th>\n",
       "      <td>0.018335</td>\n",
       "      <td>True</td>\n",
       "    </tr>\n",
       "  </tbody>\n",
       "</table>\n",
       "</div>"
      ],
      "text/plain": [
       "            importance  positive\n",
       "feature                         \n",
       "r4m2          0.015689      True\n",
       "cielorazo     0.017227      True\n",
       "bedrooms      0.017884      True\n",
       "v2a1          0.018011      True\n",
       "hogar_adul    0.018335      True"
      ]
     },
     "execution_count": 53,
     "metadata": {},
     "output_type": "execute_result"
    }
   ],
   "source": [
    "feature_importances.head()"
   ]
  },
  {
   "cell_type": "code",
   "execution_count": 54,
   "id": "876b21a9",
   "metadata": {},
   "outputs": [
    {
     "data": {
      "text/plain": [
       "Index(['r4m2', 'cielorazo', 'bedrooms', 'v2a1', 'hogar_adul', 'hhsize',\n",
       "       'tamviv', 'r4m3', 'escolari', 'r4h3', 'edjefa', 'r4t2', 'r4h2', 'r4t1',\n",
       "       'age', 'rooms', 'qmobilephone', 'hogar_nin', 'edjefe', 'overcrowding',\n",
       "       'dependency', 'meaneduc'],\n",
       "      dtype='object', name='feature')"
      ]
     },
     "execution_count": 54,
     "metadata": {},
     "output_type": "execute_result"
    }
   ],
   "source": [
    "feature_importances.index"
   ]
  },
  {
   "cell_type": "code",
   "execution_count": 55,
   "id": "9a88a5a3",
   "metadata": {},
   "outputs": [],
   "source": [
    "top_features = ['r4m2', 'cielorazo', 'bedrooms', 'v2a1', 'hogar_adul', 'hhsize',\n",
    "       'tamviv', 'r4m3', 'escolari', 'r4h3', 'edjefa', 'r4t2', 'r4h2', 'r4t1',\n",
    "       'age', 'rooms', 'qmobilephone', 'hogar_nin', 'edjefe', 'overcrowding',\n",
    "       'dependency', 'meaneduc']"
   ]
  },
  {
   "cell_type": "code",
   "execution_count": 56,
   "id": "3f6254e8",
   "metadata": {},
   "outputs": [],
   "source": [
    "top_x = x[top_features]"
   ]
  },
  {
   "cell_type": "code",
   "execution_count": 57,
   "id": "71095841",
   "metadata": {},
   "outputs": [
    {
     "name": "stdout",
     "output_type": "stream",
     "text": [
      "Index(['r4m2', 'cielorazo', 'bedrooms', 'v2a1', 'hogar_adul', 'hhsize',\n",
      "       'tamviv', 'r4m3', 'escolari', 'r4h3', 'edjefa', 'r4t2', 'r4h2', 'r4t1',\n",
      "       'age', 'rooms', 'qmobilephone', 'hogar_nin', 'edjefe', 'overcrowding',\n",
      "       'dependency', 'meaneduc'],\n",
      "      dtype='object')\n",
      "0    4\n",
      "1    4\n",
      "2    4\n",
      "3    4\n",
      "4    4\n",
      "Name: Target, dtype: int64\n"
     ]
    }
   ],
   "source": [
    "print (top_x.columns)\n",
    "print (y.head())"
   ]
  },
  {
   "cell_type": "code",
   "execution_count": 58,
   "id": "0a5e19a1",
   "metadata": {},
   "outputs": [],
   "source": [
    "x_train,x_test,y_train,y_test=train_test_split( top_x, y,test_size=0.25, random_state=4)"
   ]
  },
  {
   "cell_type": "code",
   "execution_count": 59,
   "id": "3cd1cb23",
   "metadata": {},
   "outputs": [],
   "source": [
    "model_ =rfc.fit(x_train,y_train)\n",
    "y_pred_top = model_.predict(x_test)"
   ]
  },
  {
   "cell_type": "code",
   "execution_count": 60,
   "id": "89e30e68",
   "metadata": {},
   "outputs": [
    {
     "name": "stdout",
     "output_type": "stream",
     "text": [
      "Accuracy =  0.9184100418410042\n",
      "[[ 135    7    3   23]\n",
      " [   4  334    7   66]\n",
      " [   0   21  227   42]\n",
      " [   2    7   13 1499]]\n",
      "              precision    recall  f1-score   support\n",
      "\n",
      "           1       0.96      0.80      0.87       168\n",
      "           2       0.91      0.81      0.86       411\n",
      "           3       0.91      0.78      0.84       290\n",
      "           4       0.92      0.99      0.95      1521\n",
      "\n",
      "    accuracy                           0.92      2390\n",
      "   macro avg       0.92      0.85      0.88      2390\n",
      "weighted avg       0.92      0.92      0.92      2390\n",
      "\n"
     ]
    }
   ],
   "source": [
    "print ('Accuracy = ', accuracy_score(y_test,y_pred_top))\n",
    "print ( confusion_matrix(y_test,y_pred_top))\n",
    "print ( classification_report(y_test,y_pred_top))"
   ]
  },
  {
   "cell_type": "code",
   "execution_count": 61,
   "id": "5241ad93",
   "metadata": {},
   "outputs": [
    {
     "data": {
      "text/html": [
       "<div>\n",
       "<style scoped>\n",
       "    .dataframe tbody tr th:only-of-type {\n",
       "        vertical-align: middle;\n",
       "    }\n",
       "\n",
       "    .dataframe tbody tr th {\n",
       "        vertical-align: top;\n",
       "    }\n",
       "\n",
       "    .dataframe thead th {\n",
       "        text-align: right;\n",
       "    }\n",
       "</style>\n",
       "<table border=\"1\" class=\"dataframe\">\n",
       "  <thead>\n",
       "    <tr style=\"text-align: right;\">\n",
       "      <th></th>\n",
       "      <th>r4m2</th>\n",
       "      <th>cielorazo</th>\n",
       "      <th>bedrooms</th>\n",
       "      <th>v2a1</th>\n",
       "      <th>hogar_adul</th>\n",
       "      <th>hhsize</th>\n",
       "      <th>tamviv</th>\n",
       "      <th>r4m3</th>\n",
       "      <th>escolari</th>\n",
       "      <th>r4h3</th>\n",
       "      <th>...</th>\n",
       "      <th>r4h2</th>\n",
       "      <th>r4t1</th>\n",
       "      <th>age</th>\n",
       "      <th>rooms</th>\n",
       "      <th>qmobilephone</th>\n",
       "      <th>hogar_nin</th>\n",
       "      <th>edjefe</th>\n",
       "      <th>overcrowding</th>\n",
       "      <th>dependency</th>\n",
       "      <th>meaneduc</th>\n",
       "    </tr>\n",
       "  </thead>\n",
       "  <tbody>\n",
       "    <tr>\n",
       "      <th>0</th>\n",
       "      <td>1</td>\n",
       "      <td>1</td>\n",
       "      <td>2</td>\n",
       "      <td>0.0</td>\n",
       "      <td>2</td>\n",
       "      <td>3</td>\n",
       "      <td>3</td>\n",
       "      <td>1</td>\n",
       "      <td>0</td>\n",
       "      <td>2</td>\n",
       "      <td>...</td>\n",
       "      <td>1</td>\n",
       "      <td>1</td>\n",
       "      <td>4</td>\n",
       "      <td>5</td>\n",
       "      <td>2</td>\n",
       "      <td>1</td>\n",
       "      <td>0.0</td>\n",
       "      <td>1.5</td>\n",
       "      <td>0.5</td>\n",
       "      <td>16.5</td>\n",
       "    </tr>\n",
       "    <tr>\n",
       "      <th>1</th>\n",
       "      <td>1</td>\n",
       "      <td>1</td>\n",
       "      <td>2</td>\n",
       "      <td>0.0</td>\n",
       "      <td>2</td>\n",
       "      <td>3</td>\n",
       "      <td>3</td>\n",
       "      <td>1</td>\n",
       "      <td>16</td>\n",
       "      <td>2</td>\n",
       "      <td>...</td>\n",
       "      <td>1</td>\n",
       "      <td>1</td>\n",
       "      <td>41</td>\n",
       "      <td>5</td>\n",
       "      <td>2</td>\n",
       "      <td>1</td>\n",
       "      <td>0.0</td>\n",
       "      <td>1.5</td>\n",
       "      <td>0.5</td>\n",
       "      <td>16.5</td>\n",
       "    </tr>\n",
       "    <tr>\n",
       "      <th>2</th>\n",
       "      <td>1</td>\n",
       "      <td>1</td>\n",
       "      <td>2</td>\n",
       "      <td>0.0</td>\n",
       "      <td>2</td>\n",
       "      <td>3</td>\n",
       "      <td>3</td>\n",
       "      <td>1</td>\n",
       "      <td>17</td>\n",
       "      <td>2</td>\n",
       "      <td>...</td>\n",
       "      <td>1</td>\n",
       "      <td>1</td>\n",
       "      <td>41</td>\n",
       "      <td>5</td>\n",
       "      <td>2</td>\n",
       "      <td>1</td>\n",
       "      <td>0.0</td>\n",
       "      <td>1.5</td>\n",
       "      <td>0.5</td>\n",
       "      <td>16.5</td>\n",
       "    </tr>\n",
       "    <tr>\n",
       "      <th>3</th>\n",
       "      <td>0</td>\n",
       "      <td>1</td>\n",
       "      <td>1</td>\n",
       "      <td>0.0</td>\n",
       "      <td>1</td>\n",
       "      <td>1</td>\n",
       "      <td>1</td>\n",
       "      <td>0</td>\n",
       "      <td>16</td>\n",
       "      <td>1</td>\n",
       "      <td>...</td>\n",
       "      <td>1</td>\n",
       "      <td>0</td>\n",
       "      <td>59</td>\n",
       "      <td>14</td>\n",
       "      <td>2</td>\n",
       "      <td>0</td>\n",
       "      <td>16.0</td>\n",
       "      <td>1.0</td>\n",
       "      <td>0.0</td>\n",
       "      <td>16.0</td>\n",
       "    </tr>\n",
       "    <tr>\n",
       "      <th>4</th>\n",
       "      <td>1</td>\n",
       "      <td>1</td>\n",
       "      <td>2</td>\n",
       "      <td>175000.0</td>\n",
       "      <td>0</td>\n",
       "      <td>1</td>\n",
       "      <td>1</td>\n",
       "      <td>1</td>\n",
       "      <td>11</td>\n",
       "      <td>0</td>\n",
       "      <td>...</td>\n",
       "      <td>0</td>\n",
       "      <td>0</td>\n",
       "      <td>18</td>\n",
       "      <td>4</td>\n",
       "      <td>1</td>\n",
       "      <td>1</td>\n",
       "      <td>0.0</td>\n",
       "      <td>0.5</td>\n",
       "      <td>8.0</td>\n",
       "      <td>0.0</td>\n",
       "    </tr>\n",
       "  </tbody>\n",
       "</table>\n",
       "<p>5 rows × 22 columns</p>\n",
       "</div>"
      ],
      "text/plain": [
       "   r4m2  cielorazo  bedrooms      v2a1  hogar_adul  hhsize  tamviv  r4m3  \\\n",
       "0     1          1         2       0.0           2       3       3     1   \n",
       "1     1          1         2       0.0           2       3       3     1   \n",
       "2     1          1         2       0.0           2       3       3     1   \n",
       "3     0          1         1       0.0           1       1       1     0   \n",
       "4     1          1         2  175000.0           0       1       1     1   \n",
       "\n",
       "   escolari  r4h3  ...  r4h2  r4t1  age  rooms  qmobilephone  hogar_nin  \\\n",
       "0         0     2  ...     1     1    4      5             2          1   \n",
       "1        16     2  ...     1     1   41      5             2          1   \n",
       "2        17     2  ...     1     1   41      5             2          1   \n",
       "3        16     1  ...     1     0   59     14             2          0   \n",
       "4        11     0  ...     0     0   18      4             1          1   \n",
       "\n",
       "   edjefe  overcrowding  dependency  meaneduc  \n",
       "0     0.0           1.5         0.5      16.5  \n",
       "1     0.0           1.5         0.5      16.5  \n",
       "2     0.0           1.5         0.5      16.5  \n",
       "3    16.0           1.0         0.0      16.0  \n",
       "4     0.0           0.5         8.0       0.0  \n",
       "\n",
       "[5 rows x 22 columns]"
      ]
     },
     "execution_count": 61,
     "metadata": {},
     "output_type": "execute_result"
    }
   ],
   "source": [
    "df_test_top = df_test[top_features]\n",
    "df_test_top.head()"
   ]
  },
  {
   "cell_type": "code",
   "execution_count": 62,
   "id": "6a619538",
   "metadata": {},
   "outputs": [
    {
     "data": {
      "text/plain": [
       "array([4, 4, 4, ..., 2, 2, 2], dtype=int64)"
      ]
     },
     "execution_count": 62,
     "metadata": {},
     "output_type": "execute_result"
    }
   ],
   "source": [
    "y_pred_testdata_top = rfc.predict(df_test_top)\n",
    "y_pred_testdata_top"
   ]
  },
  {
   "cell_type": "code",
   "execution_count": 63,
   "id": "c7d40fdf",
   "metadata": {},
   "outputs": [
    {
     "name": "stdout",
     "output_type": "stream",
     "text": [
      "Model Score of train data : 0.9994418864238873\n",
      "Model Score of test data : 0.9184100418410042\n"
     ]
    }
   ],
   "source": [
    "print('Model Score of train data : {}'.format(model_.score(x_train,y_train)))\n",
    "print('Model Score of test data : {}'.format(model_.score(x_test,y_test)))"
   ]
  },
  {
   "cell_type": "markdown",
   "id": "455c6281",
   "metadata": {},
   "source": [
    "## Conclusion :- Here we can see although we use important features but accuracy of our model still slightly decreases."
   ]
  },
  {
   "cell_type": "markdown",
   "id": "0468c787",
   "metadata": {},
   "source": [
    "so its important to train our model on all required features for good accuracy."
   ]
  }
 ],
 "metadata": {
  "kernelspec": {
   "display_name": "Python 3 (ipykernel)",
   "language": "python",
   "name": "python3"
  },
  "language_info": {
   "codemirror_mode": {
    "name": "ipython",
    "version": 3
   },
   "file_extension": ".py",
   "mimetype": "text/x-python",
   "name": "python",
   "nbconvert_exporter": "python",
   "pygments_lexer": "ipython3",
   "version": "3.11.5"
  }
 },
 "nbformat": 4,
 "nbformat_minor": 5
}
